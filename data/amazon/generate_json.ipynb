{
 "cells": [
  {
   "cell_type": "code",
   "execution_count": 25,
   "metadata": {},
   "outputs": [],
   "source": [
    "import os\n",
    "import json\n",
    "import pandas as pd\n",
    "import numpy as np\n",
    "import re\n",
    "import random\n",
    "import pickle\n",
    "import os\n",
    "from tqdm import tqdm"
   ]
  },
  {
   "cell_type": "code",
   "execution_count": 99,
   "metadata": {},
   "outputs": [],
   "source": [
    "input_dir = 'original/'\n",
    "output_dir = './'\n",
    "states = [ \"warm_up\", \"user_cold_testing\", \"item_cold_testing\", \"user_and_item_cold_testing\",\"meta_training\"]\n",
    "\n",
    "ui_data = pd.read_csv(input_dir + 'user_item.dat', names=['user', 'item', 'rating', 'timestamp'],\n",
    "                      sep='\\t', engine='python')\n",
    "user_time = ui_data[['user','timestamp']]\n",
    "item_time = ui_data[['item','timestamp']]\n",
    "user_time = user_time.groupby(['user']).apply(lambda x: x.sort_values([\"timestamp\"], ascending = True)).reset_index(drop=True).groupby('user').head(1)\n",
    "item_time = item_time.groupby(['item']).apply(lambda x: x.sort_values([\"timestamp\"], ascending = True)).reset_index(drop=True).groupby('item').head(1)\n",
    "user_time.sort_values(by=\"timestamp\" , inplace=True, ascending=False)\n",
    "item_time.sort_values(by=\"timestamp\" , inplace=True, ascending=False)\n",
    "user_top = user_time.iloc[:1354]\n",
    "new_user = user_top['user'].tolist()\n",
    "item_top = item_time.iloc[:550]\n",
    "new_item = item_top['item'].tolist()"
   ]
  },
  {
   "cell_type": "code",
   "execution_count": 100,
   "metadata": {},
   "outputs": [
    {
     "data": {
      "text/plain": [
       "(6170, 2753)"
      ]
     },
     "execution_count": 100,
     "metadata": {},
     "output_type": "execute_result"
    }
   ],
   "source": [
    "user_list = set(ui_data.user)\n",
    "item_list = set(ui_data.item)\n",
    "len(user_list), len(item_list)"
   ]
  },
  {
   "cell_type": "code",
   "execution_count": 101,
   "metadata": {},
   "outputs": [
    {
     "data": {
      "text/plain": [
       "(4816, 2203)"
      ]
     },
     "execution_count": 101,
     "metadata": {},
     "output_type": "execute_result"
    }
   ],
   "source": [
    "exist_user = list(user_list - set(new_user))\n",
    "exist_item = list(item_list- set(new_item))\n",
    "len(exist_user), len(exist_item)"
   ]
  },
  {
   "cell_type": "markdown",
   "metadata": {},
   "source": [
    "meta_training and meta-testing data"
   ]
  },
  {
   "cell_type": "code",
   "execution_count": 102,
   "metadata": {},
   "outputs": [
    {
     "data": {
      "text/plain": [
       "135258"
      ]
     },
     "execution_count": 102,
     "metadata": {},
     "output_type": "execute_result"
    }
   ],
   "source": [
    "meta_training_data = ui_data[(ui_data['user'].isin(exist_user)) & (ui_data['item'].isin(exist_item))]\n",
    "len(meta_training_data)  # 967291 "
   ]
  },
  {
   "cell_type": "code",
   "execution_count": 103,
   "metadata": {},
   "outputs": [
    {
     "data": {
      "text/plain": [
       "13525"
      ]
     },
     "execution_count": 103,
     "metadata": {},
     "output_type": "execute_result"
    }
   ],
   "source": [
    "warm_data = meta_training_data.sample(int(0.1*len(meta_training_data)))\n",
    "len(warm_data)  # 96729 "
   ]
  },
  {
   "cell_type": "code",
   "execution_count": 104,
   "metadata": {},
   "outputs": [
    {
     "data": {
      "text/plain": [
       "154"
      ]
     },
     "execution_count": 104,
     "metadata": {},
     "output_type": "execute_result"
    }
   ],
   "source": [
    "count_user_interaction = dict(warm_data.user.value_counts())\n",
    "less_100_user = [k for k, v in count_user_interaction.items() if 13<=v<=100]\n",
    "len(less_100_user)"
   ]
  },
  {
   "cell_type": "code",
   "execution_count": 105,
   "metadata": {},
   "outputs": [],
   "source": [
    "warm_data = warm_data[warm_data['user'].isin(less_100_user)]#124599"
   ]
  },
  {
   "cell_type": "code",
   "execution_count": 106,
   "metadata": {},
   "outputs": [
    {
     "data": {
      "text/plain": [
       "(154, 154)"
      ]
     },
     "execution_count": 106,
     "metadata": {},
     "output_type": "execute_result"
    }
   ],
   "source": [
    "# warm data\n",
    "warm_x = {k: g[\"item\"].tolist() for k,g in warm_data.groupby(\"user\")}\n",
    "warm_y = {k: g[\"rating\"].tolist() for k,g in warm_data.groupby(\"user\")}\n",
    "json.dump(warm_x, open(\"{}/warm_up.json\".format(output_dir), 'w'))\n",
    "json.dump(warm_y, open(\"{}/warm_up_y.json\".format(output_dir), 'w'))\n",
    "len(warm_x), len(warm_y)"
   ]
  },
  {
   "cell_type": "code",
   "execution_count": 107,
   "metadata": {},
   "outputs": [
    {
     "data": {
      "text/plain": [
       "132045"
      ]
     },
     "execution_count": 107,
     "metadata": {},
     "output_type": "execute_result"
    }
   ],
   "source": [
    "training_data = meta_training_data.loc[meta_training_data.index.difference(warm_data.index)]\n",
    "len(training_data)  # 870562 "
   ]
  },
  {
   "cell_type": "code",
   "execution_count": 108,
   "metadata": {},
   "outputs": [
    {
     "data": {
      "text/plain": [
       "3012"
      ]
     },
     "execution_count": 108,
     "metadata": {},
     "output_type": "execute_result"
    }
   ],
   "source": [
    "count_user_interaction = dict(training_data.user.value_counts())\n",
    "less_100_user = [k for k, v in count_user_interaction.items() if 13<=v<=100]\n",
    "training_data = training_data[training_data['user'].isin(less_100_user)]#124599\n",
    "len(less_100_user)"
   ]
  },
  {
   "cell_type": "code",
   "execution_count": 109,
   "metadata": {},
   "outputs": [
    {
     "data": {
      "text/plain": [
       "(3012, 3012)"
      ]
     },
     "execution_count": 109,
     "metadata": {},
     "output_type": "execute_result"
    }
   ],
   "source": [
    "# training data\n",
    "training_x = {k: g[\"item\"].tolist() for k,g in training_data.groupby(\"user\")}\n",
    "training_y = {k: g[\"rating\"].tolist() for k,g in training_data.groupby(\"user\")}\n",
    "json.dump(training_x, open(\"{}/meta_training.json\".format(output_dir), 'w'))\n",
    "json.dump(training_y, open(\"{}/meta_training_y.json\".format(output_dir), 'w'))\n",
    "len(training_x), len(training_y)"
   ]
  },
  {
   "cell_type": "code",
   "execution_count": 110,
   "metadata": {},
   "outputs": [
    {
     "data": {
      "text/plain": [
       "25885"
      ]
     },
     "execution_count": 110,
     "metadata": {},
     "output_type": "execute_result"
    }
   ],
   "source": [
    "# meta-testing\n",
    "# user_cold_testing\n",
    "user_cold_data =ui_data[(ui_data['user'].isin(new_user)) & (ui_data['item'].isin(exist_item))]\n",
    "len(user_cold_data) "
   ]
  },
  {
   "cell_type": "code",
   "execution_count": 111,
   "metadata": {},
   "outputs": [
    {
     "data": {
      "text/plain": [
       "719"
      ]
     },
     "execution_count": 111,
     "metadata": {},
     "output_type": "execute_result"
    }
   ],
   "source": [
    "count_user_interaction = dict(user_cold_data.user.value_counts())\n",
    "less_100_user = [k for k, v in count_user_interaction.items() if 13<=v<=100]\n",
    "user_cold_data = user_cold_data[user_cold_data['user'].isin(less_100_user)]#124599\n",
    "len(less_100_user)"
   ]
  },
  {
   "cell_type": "code",
   "execution_count": 112,
   "metadata": {},
   "outputs": [
    {
     "data": {
      "text/plain": [
       "(719, 719)"
      ]
     },
     "execution_count": 112,
     "metadata": {},
     "output_type": "execute_result"
    }
   ],
   "source": [
    "user_cold_x = {k: g[\"item\"].tolist() for k,g in user_cold_data.groupby(\"user\")}\n",
    "user_cold_y = {k: g[\"rating\"].tolist() for k,g in user_cold_data.groupby(\"user\")}\n",
    "json.dump(user_cold_x, open(\"{}/user_cold_testing.json\".format(output_dir), 'w'))\n",
    "json.dump(user_cold_y, open(\"{}/user_cold_testing_y.json\".format(output_dir), 'w'))\n",
    "len(user_cold_x), len(user_cold_y)"
   ]
  },
  {
   "cell_type": "code",
   "execution_count": 113,
   "metadata": {},
   "outputs": [
    {
     "data": {
      "text/plain": [
       "30712"
      ]
     },
     "execution_count": 113,
     "metadata": {},
     "output_type": "execute_result"
    }
   ],
   "source": [
    "# item_cold_testing\n",
    "item_cold_data =ui_data[(ui_data['user'].isin(exist_user)) & (ui_data['item'].isin(new_item))]\n",
    "len(item_cold_data)  # 118467 "
   ]
  },
  {
   "cell_type": "code",
   "execution_count": 114,
   "metadata": {},
   "outputs": [
    {
     "data": {
      "text/plain": [
       "639"
      ]
     },
     "execution_count": 114,
     "metadata": {},
     "output_type": "execute_result"
    }
   ],
   "source": [
    "count_user_interaction = dict(item_cold_data.user.value_counts())\n",
    "less_100_user = [k for k, v in count_user_interaction.items() if 13<=v<=100]\n",
    "item_cold_data = item_cold_data[item_cold_data['user'].isin(less_100_user)]#124599\n",
    "len(less_100_user)"
   ]
  },
  {
   "cell_type": "code",
   "execution_count": 115,
   "metadata": {},
   "outputs": [
    {
     "data": {
      "text/plain": [
       "(639, 639)"
      ]
     },
     "execution_count": 115,
     "metadata": {},
     "output_type": "execute_result"
    }
   ],
   "source": [
    "item_cold_x = {k: g[\"item\"].tolist() for k,g in item_cold_data.groupby(\"user\")}\n",
    "item_cold_y = {k: g[\"rating\"].tolist() for k,g in item_cold_data.groupby(\"user\")}\n",
    "json.dump(item_cold_x, open(\"{}/item_cold_testing.json\".format(output_dir), 'w'))\n",
    "json.dump(item_cold_y, open(\"{}/item_cold_testing_y.json\".format(output_dir), 'w'))\n",
    "len(item_cold_x), len(item_cold_y)"
   ]
  },
  {
   "cell_type": "code",
   "execution_count": 123,
   "metadata": {},
   "outputs": [
    {
     "data": {
      "text/plain": [
       "3936"
      ]
     },
     "execution_count": 123,
     "metadata": {},
     "output_type": "execute_result"
    }
   ],
   "source": [
    "user_item_cold_data =ui_data[(ui_data['user'].isin(new_user)) & (ui_data['item'].isin(new_item))]\n",
    "len(user_item_cold_data)  # 52736 "
   ]
  },
  {
   "cell_type": "code",
   "execution_count": 124,
   "metadata": {},
   "outputs": [
    {
     "data": {
      "text/plain": [
       "25"
      ]
     },
     "execution_count": 124,
     "metadata": {},
     "output_type": "execute_result"
    }
   ],
   "source": [
    "count_user_interaction = dict(user_item_cold_data.user.value_counts())\n",
    "less_10_user = [k for k, v in count_user_interaction.items() if 13<=v<=100]\n",
    "user_item_cold_data = user_item_cold_data[user_item_cold_data['user'].isin(less_10_user)]#124599\n",
    "len(less_10_user)"
   ]
  },
  {
   "cell_type": "code",
   "execution_count": 125,
   "metadata": {},
   "outputs": [
    {
     "data": {
      "text/plain": [
       "(25, 25)"
      ]
     },
     "execution_count": 125,
     "metadata": {},
     "output_type": "execute_result"
    }
   ],
   "source": [
    "user_item_cold_x = {k: g[\"item\"].tolist() for k,g in user_item_cold_data.groupby(\"user\")}\n",
    "user_item_cold_y = {k: g[\"rating\"].tolist() for k,g in user_item_cold_data.groupby(\"user\")}\n",
    "json.dump(user_item_cold_x, open(\"{}/user_and_item_cold_testing.json\".format(output_dir), 'w'))\n",
    "json.dump(user_item_cold_y, open(\"{}/user_and_item_cold_testing_y.json\".format(output_dir), 'w'))\n",
    "len(user_item_cold_x), len(user_item_cold_y)"
   ]
  },
  {
   "cell_type": "code",
   "execution_count": null,
   "metadata": {},
   "outputs": [],
   "source": []
  },
  {
   "cell_type": "code",
   "execution_count": 79,
   "metadata": {},
   "outputs": [],
   "source": [
    "ui_data_filter = ui_data[ui_data['user_id'].isin(less_100_user)]#124599"
   ]
  },
  {
   "cell_type": "code",
   "execution_count": 82,
   "metadata": {},
   "outputs": [],
   "source": [
    "count_user_interaction = dict(ui_data_filter.user_id.value_counts())\n"
   ]
  },
  {
   "cell_type": "code",
   "execution_count": 83,
   "metadata": {},
   "outputs": [
    {
     "name": "stderr",
     "output_type": "stream",
     "text": [
      "C:\\Users\\administered\\Anaconda3\\lib\\site-packages\\ipykernel_launcher.py:4: SettingWithCopyWarning: \n",
      "A value is trying to be set on a copy of a slice from a DataFrame.\n",
      "Try using .loc[row_indexer,col_indexer] = value instead\n",
      "\n",
      "See the caveats in the documentation: http://pandas.pydata.org/pandas-docs/stable/indexing.html#indexing-view-versus-copy\n",
      "  after removing the cwd from sys.path.\n"
     ]
    }
   ],
   "source": [
    "array = ui_data_filter[\"user_id\"].unique()\n",
    "d = dict(enumerate(array))\n",
    "res = dict((v, k) for k, v in d.items())\n",
    "ui_data_filter['user'] = ui_data_filter[\"user_id\"].map(res)"
   ]
  },
  {
   "cell_type": "code",
   "execution_count": 85,
   "metadata": {},
   "outputs": [
    {
     "data": {
      "text/html": [
       "<div>\n",
       "<style scoped>\n",
       "    .dataframe tbody tr th:only-of-type {\n",
       "        vertical-align: middle;\n",
       "    }\n",
       "\n",
       "    .dataframe tbody tr th {\n",
       "        vertical-align: top;\n",
       "    }\n",
       "\n",
       "    .dataframe thead th {\n",
       "        text-align: right;\n",
       "    }\n",
       "</style>\n",
       "<table border=\"1\" class=\"dataframe\">\n",
       "  <thead>\n",
       "    <tr style=\"text-align: right;\">\n",
       "      <th></th>\n",
       "      <th>user_id</th>\n",
       "      <th>item</th>\n",
       "      <th>rating</th>\n",
       "      <th>timestamp</th>\n",
       "      <th>user</th>\n",
       "    </tr>\n",
       "  </thead>\n",
       "  <tbody>\n",
       "    <tr>\n",
       "      <th>0</th>\n",
       "      <td>2836</td>\n",
       "      <td>2645</td>\n",
       "      <td>5</td>\n",
       "      <td>1386201600</td>\n",
       "      <td>0</td>\n",
       "    </tr>\n",
       "    <tr>\n",
       "      <th>3</th>\n",
       "      <td>3044</td>\n",
       "      <td>2645</td>\n",
       "      <td>5</td>\n",
       "      <td>1012176000</td>\n",
       "      <td>1</td>\n",
       "    </tr>\n",
       "    <tr>\n",
       "      <th>4</th>\n",
       "      <td>2861</td>\n",
       "      <td>2645</td>\n",
       "      <td>4</td>\n",
       "      <td>1388966400</td>\n",
       "      <td>2</td>\n",
       "    </tr>\n",
       "    <tr>\n",
       "      <th>6</th>\n",
       "      <td>4438</td>\n",
       "      <td>2645</td>\n",
       "      <td>5</td>\n",
       "      <td>1391817600</td>\n",
       "      <td>3</td>\n",
       "    </tr>\n",
       "    <tr>\n",
       "      <th>7</th>\n",
       "      <td>4276</td>\n",
       "      <td>2645</td>\n",
       "      <td>4</td>\n",
       "      <td>1003449600</td>\n",
       "      <td>4</td>\n",
       "    </tr>\n",
       "    <tr>\n",
       "      <th>9</th>\n",
       "      <td>2606</td>\n",
       "      <td>2645</td>\n",
       "      <td>4</td>\n",
       "      <td>1388793600</td>\n",
       "      <td>5</td>\n",
       "    </tr>\n",
       "    <tr>\n",
       "      <th>12</th>\n",
       "      <td>4449</td>\n",
       "      <td>2645</td>\n",
       "      <td>4</td>\n",
       "      <td>1354233600</td>\n",
       "      <td>6</td>\n",
       "    </tr>\n",
       "    <tr>\n",
       "      <th>14</th>\n",
       "      <td>4379</td>\n",
       "      <td>2645</td>\n",
       "      <td>5</td>\n",
       "      <td>1387065600</td>\n",
       "      <td>7</td>\n",
       "    </tr>\n",
       "    <tr>\n",
       "      <th>15</th>\n",
       "      <td>388</td>\n",
       "      <td>2616</td>\n",
       "      <td>5</td>\n",
       "      <td>1077321600</td>\n",
       "      <td>8</td>\n",
       "    </tr>\n",
       "    <tr>\n",
       "      <th>16</th>\n",
       "      <td>3680</td>\n",
       "      <td>2616</td>\n",
       "      <td>5</td>\n",
       "      <td>1232582400</td>\n",
       "      <td>9</td>\n",
       "    </tr>\n",
       "    <tr>\n",
       "      <th>17</th>\n",
       "      <td>3960</td>\n",
       "      <td>2616</td>\n",
       "      <td>5</td>\n",
       "      <td>1219881600</td>\n",
       "      <td>10</td>\n",
       "    </tr>\n",
       "    <tr>\n",
       "      <th>18</th>\n",
       "      <td>1320</td>\n",
       "      <td>2616</td>\n",
       "      <td>5</td>\n",
       "      <td>1104969600</td>\n",
       "      <td>11</td>\n",
       "    </tr>\n",
       "    <tr>\n",
       "      <th>19</th>\n",
       "      <td>1163</td>\n",
       "      <td>2616</td>\n",
       "      <td>5</td>\n",
       "      <td>1173312000</td>\n",
       "      <td>12</td>\n",
       "    </tr>\n",
       "    <tr>\n",
       "      <th>20</th>\n",
       "      <td>2709</td>\n",
       "      <td>2616</td>\n",
       "      <td>5</td>\n",
       "      <td>1125273600</td>\n",
       "      <td>13</td>\n",
       "    </tr>\n",
       "    <tr>\n",
       "      <th>21</th>\n",
       "      <td>1369</td>\n",
       "      <td>2616</td>\n",
       "      <td>5</td>\n",
       "      <td>1322870400</td>\n",
       "      <td>14</td>\n",
       "    </tr>\n",
       "    <tr>\n",
       "      <th>22</th>\n",
       "      <td>1727</td>\n",
       "      <td>2616</td>\n",
       "      <td>5</td>\n",
       "      <td>1143072000</td>\n",
       "      <td>15</td>\n",
       "    </tr>\n",
       "    <tr>\n",
       "      <th>23</th>\n",
       "      <td>401</td>\n",
       "      <td>2616</td>\n",
       "      <td>5</td>\n",
       "      <td>1347148800</td>\n",
       "      <td>16</td>\n",
       "    </tr>\n",
       "    <tr>\n",
       "      <th>24</th>\n",
       "      <td>4044</td>\n",
       "      <td>2616</td>\n",
       "      <td>5</td>\n",
       "      <td>974937600</td>\n",
       "      <td>17</td>\n",
       "    </tr>\n",
       "    <tr>\n",
       "      <th>25</th>\n",
       "      <td>2059</td>\n",
       "      <td>2616</td>\n",
       "      <td>5</td>\n",
       "      <td>1397520000</td>\n",
       "      <td>18</td>\n",
       "    </tr>\n",
       "    <tr>\n",
       "      <th>27</th>\n",
       "      <td>3695</td>\n",
       "      <td>2616</td>\n",
       "      <td>4</td>\n",
       "      <td>1387065600</td>\n",
       "      <td>19</td>\n",
       "    </tr>\n",
       "    <tr>\n",
       "      <th>28</th>\n",
       "      <td>3962</td>\n",
       "      <td>2616</td>\n",
       "      <td>4</td>\n",
       "      <td>978566400</td>\n",
       "      <td>20</td>\n",
       "    </tr>\n",
       "    <tr>\n",
       "      <th>29</th>\n",
       "      <td>1392</td>\n",
       "      <td>2616</td>\n",
       "      <td>4</td>\n",
       "      <td>1031702400</td>\n",
       "      <td>21</td>\n",
       "    </tr>\n",
       "    <tr>\n",
       "      <th>30</th>\n",
       "      <td>1897</td>\n",
       "      <td>2616</td>\n",
       "      <td>5</td>\n",
       "      <td>1233273600</td>\n",
       "      <td>22</td>\n",
       "    </tr>\n",
       "    <tr>\n",
       "      <th>31</th>\n",
       "      <td>2977</td>\n",
       "      <td>2616</td>\n",
       "      <td>5</td>\n",
       "      <td>1172620800</td>\n",
       "      <td>23</td>\n",
       "    </tr>\n",
       "    <tr>\n",
       "      <th>32</th>\n",
       "      <td>561</td>\n",
       "      <td>1170</td>\n",
       "      <td>5</td>\n",
       "      <td>992649600</td>\n",
       "      <td>24</td>\n",
       "    </tr>\n",
       "    <tr>\n",
       "      <th>34</th>\n",
       "      <td>2212</td>\n",
       "      <td>1170</td>\n",
       "      <td>5</td>\n",
       "      <td>1069977600</td>\n",
       "      <td>25</td>\n",
       "    </tr>\n",
       "    <tr>\n",
       "      <th>35</th>\n",
       "      <td>1854</td>\n",
       "      <td>1170</td>\n",
       "      <td>5</td>\n",
       "      <td>976665600</td>\n",
       "      <td>26</td>\n",
       "    </tr>\n",
       "    <tr>\n",
       "      <th>38</th>\n",
       "      <td>565</td>\n",
       "      <td>1170</td>\n",
       "      <td>5</td>\n",
       "      <td>1259452800</td>\n",
       "      <td>27</td>\n",
       "    </tr>\n",
       "    <tr>\n",
       "      <th>39</th>\n",
       "      <td>4382</td>\n",
       "      <td>1170</td>\n",
       "      <td>5</td>\n",
       "      <td>1321315200</td>\n",
       "      <td>28</td>\n",
       "    </tr>\n",
       "    <tr>\n",
       "      <th>40</th>\n",
       "      <td>781</td>\n",
       "      <td>1170</td>\n",
       "      <td>5</td>\n",
       "      <td>1354492800</td>\n",
       "      <td>29</td>\n",
       "    </tr>\n",
       "    <tr>\n",
       "      <th>...</th>\n",
       "      <td>...</td>\n",
       "      <td>...</td>\n",
       "      <td>...</td>\n",
       "      <td>...</td>\n",
       "      <td>...</td>\n",
       "    </tr>\n",
       "    <tr>\n",
       "      <th>195742</th>\n",
       "      <td>2185</td>\n",
       "      <td>137</td>\n",
       "      <td>2</td>\n",
       "      <td>1163635200</td>\n",
       "      <td>4435</td>\n",
       "    </tr>\n",
       "    <tr>\n",
       "      <th>195743</th>\n",
       "      <td>2677</td>\n",
       "      <td>137</td>\n",
       "      <td>5</td>\n",
       "      <td>1177632000</td>\n",
       "      <td>3922</td>\n",
       "    </tr>\n",
       "    <tr>\n",
       "      <th>195747</th>\n",
       "      <td>714</td>\n",
       "      <td>137</td>\n",
       "      <td>5</td>\n",
       "      <td>1267056000</td>\n",
       "      <td>3191</td>\n",
       "    </tr>\n",
       "    <tr>\n",
       "      <th>195748</th>\n",
       "      <td>2794</td>\n",
       "      <td>137</td>\n",
       "      <td>5</td>\n",
       "      <td>1172620800</td>\n",
       "      <td>815</td>\n",
       "    </tr>\n",
       "    <tr>\n",
       "      <th>195751</th>\n",
       "      <td>312</td>\n",
       "      <td>137</td>\n",
       "      <td>5</td>\n",
       "      <td>1168214400</td>\n",
       "      <td>2125</td>\n",
       "    </tr>\n",
       "    <tr>\n",
       "      <th>195753</th>\n",
       "      <td>625</td>\n",
       "      <td>137</td>\n",
       "      <td>4</td>\n",
       "      <td>1174262400</td>\n",
       "      <td>1716</td>\n",
       "    </tr>\n",
       "    <tr>\n",
       "      <th>195754</th>\n",
       "      <td>3416</td>\n",
       "      <td>137</td>\n",
       "      <td>2</td>\n",
       "      <td>1177200000</td>\n",
       "      <td>3871</td>\n",
       "    </tr>\n",
       "    <tr>\n",
       "      <th>195755</th>\n",
       "      <td>4465</td>\n",
       "      <td>137</td>\n",
       "      <td>5</td>\n",
       "      <td>1163203200</td>\n",
       "      <td>3148</td>\n",
       "    </tr>\n",
       "    <tr>\n",
       "      <th>195757</th>\n",
       "      <td>538</td>\n",
       "      <td>137</td>\n",
       "      <td>5</td>\n",
       "      <td>1218844800</td>\n",
       "      <td>389</td>\n",
       "    </tr>\n",
       "    <tr>\n",
       "      <th>195758</th>\n",
       "      <td>2451</td>\n",
       "      <td>137</td>\n",
       "      <td>2</td>\n",
       "      <td>1162512000</td>\n",
       "      <td>4578</td>\n",
       "    </tr>\n",
       "    <tr>\n",
       "      <th>195759</th>\n",
       "      <td>2666</td>\n",
       "      <td>137</td>\n",
       "      <td>4</td>\n",
       "      <td>1183939200</td>\n",
       "      <td>3564</td>\n",
       "    </tr>\n",
       "    <tr>\n",
       "      <th>195761</th>\n",
       "      <td>795</td>\n",
       "      <td>137</td>\n",
       "      <td>4</td>\n",
       "      <td>1173657600</td>\n",
       "      <td>1903</td>\n",
       "    </tr>\n",
       "    <tr>\n",
       "      <th>195762</th>\n",
       "      <td>1148</td>\n",
       "      <td>137</td>\n",
       "      <td>2</td>\n",
       "      <td>1181692800</td>\n",
       "      <td>2195</td>\n",
       "    </tr>\n",
       "    <tr>\n",
       "      <th>195763</th>\n",
       "      <td>3117</td>\n",
       "      <td>137</td>\n",
       "      <td>5</td>\n",
       "      <td>1174435200</td>\n",
       "      <td>1904</td>\n",
       "    </tr>\n",
       "    <tr>\n",
       "      <th>195767</th>\n",
       "      <td>668</td>\n",
       "      <td>137</td>\n",
       "      <td>4</td>\n",
       "      <td>1172966400</td>\n",
       "      <td>2196</td>\n",
       "    </tr>\n",
       "    <tr>\n",
       "      <th>195768</th>\n",
       "      <td>2820</td>\n",
       "      <td>137</td>\n",
       "      <td>5</td>\n",
       "      <td>1162684800</td>\n",
       "      <td>4135</td>\n",
       "    </tr>\n",
       "    <tr>\n",
       "      <th>195769</th>\n",
       "      <td>4229</td>\n",
       "      <td>137</td>\n",
       "      <td>4</td>\n",
       "      <td>1374019200</td>\n",
       "      <td>1859</td>\n",
       "    </tr>\n",
       "    <tr>\n",
       "      <th>195770</th>\n",
       "      <td>2702</td>\n",
       "      <td>137</td>\n",
       "      <td>5</td>\n",
       "      <td>1174521600</td>\n",
       "      <td>4558</td>\n",
       "    </tr>\n",
       "    <tr>\n",
       "      <th>195771</th>\n",
       "      <td>1996</td>\n",
       "      <td>137</td>\n",
       "      <td>4</td>\n",
       "      <td>1173312000</td>\n",
       "      <td>2280</td>\n",
       "    </tr>\n",
       "    <tr>\n",
       "      <th>195772</th>\n",
       "      <td>1844</td>\n",
       "      <td>137</td>\n",
       "      <td>4</td>\n",
       "      <td>1193443200</td>\n",
       "      <td>1262</td>\n",
       "    </tr>\n",
       "    <tr>\n",
       "      <th>195773</th>\n",
       "      <td>696</td>\n",
       "      <td>137</td>\n",
       "      <td>4</td>\n",
       "      <td>1180828800</td>\n",
       "      <td>2056</td>\n",
       "    </tr>\n",
       "    <tr>\n",
       "      <th>195774</th>\n",
       "      <td>481</td>\n",
       "      <td>137</td>\n",
       "      <td>5</td>\n",
       "      <td>1316822400</td>\n",
       "      <td>290</td>\n",
       "    </tr>\n",
       "    <tr>\n",
       "      <th>195776</th>\n",
       "      <td>1247</td>\n",
       "      <td>137</td>\n",
       "      <td>5</td>\n",
       "      <td>1168387200</td>\n",
       "      <td>398</td>\n",
       "    </tr>\n",
       "    <tr>\n",
       "      <th>195779</th>\n",
       "      <td>3970</td>\n",
       "      <td>137</td>\n",
       "      <td>5</td>\n",
       "      <td>1192492800</td>\n",
       "      <td>4337</td>\n",
       "    </tr>\n",
       "    <tr>\n",
       "      <th>195780</th>\n",
       "      <td>385</td>\n",
       "      <td>137</td>\n",
       "      <td>4</td>\n",
       "      <td>1361664000</td>\n",
       "      <td>1344</td>\n",
       "    </tr>\n",
       "    <tr>\n",
       "      <th>195782</th>\n",
       "      <td>2061</td>\n",
       "      <td>137</td>\n",
       "      <td>5</td>\n",
       "      <td>1170547200</td>\n",
       "      <td>586</td>\n",
       "    </tr>\n",
       "    <tr>\n",
       "      <th>195786</th>\n",
       "      <td>1211</td>\n",
       "      <td>137</td>\n",
       "      <td>2</td>\n",
       "      <td>1175385600</td>\n",
       "      <td>3149</td>\n",
       "    </tr>\n",
       "    <tr>\n",
       "      <th>195787</th>\n",
       "      <td>1486</td>\n",
       "      <td>137</td>\n",
       "      <td>4</td>\n",
       "      <td>1173312000</td>\n",
       "      <td>2896</td>\n",
       "    </tr>\n",
       "    <tr>\n",
       "      <th>195789</th>\n",
       "      <td>2509</td>\n",
       "      <td>137</td>\n",
       "      <td>1</td>\n",
       "      <td>1174867200</td>\n",
       "      <td>4282</td>\n",
       "    </tr>\n",
       "    <tr>\n",
       "      <th>195790</th>\n",
       "      <td>491</td>\n",
       "      <td>137</td>\n",
       "      <td>2</td>\n",
       "      <td>1173312000</td>\n",
       "      <td>321</td>\n",
       "    </tr>\n",
       "  </tbody>\n",
       "</table>\n",
       "<p>124599 rows × 5 columns</p>\n",
       "</div>"
      ],
      "text/plain": [
       "        user_id  item  rating   timestamp  user\n",
       "0          2836  2645       5  1386201600     0\n",
       "3          3044  2645       5  1012176000     1\n",
       "4          2861  2645       4  1388966400     2\n",
       "6          4438  2645       5  1391817600     3\n",
       "7          4276  2645       4  1003449600     4\n",
       "9          2606  2645       4  1388793600     5\n",
       "12         4449  2645       4  1354233600     6\n",
       "14         4379  2645       5  1387065600     7\n",
       "15          388  2616       5  1077321600     8\n",
       "16         3680  2616       5  1232582400     9\n",
       "17         3960  2616       5  1219881600    10\n",
       "18         1320  2616       5  1104969600    11\n",
       "19         1163  2616       5  1173312000    12\n",
       "20         2709  2616       5  1125273600    13\n",
       "21         1369  2616       5  1322870400    14\n",
       "22         1727  2616       5  1143072000    15\n",
       "23          401  2616       5  1347148800    16\n",
       "24         4044  2616       5   974937600    17\n",
       "25         2059  2616       5  1397520000    18\n",
       "27         3695  2616       4  1387065600    19\n",
       "28         3962  2616       4   978566400    20\n",
       "29         1392  2616       4  1031702400    21\n",
       "30         1897  2616       5  1233273600    22\n",
       "31         2977  2616       5  1172620800    23\n",
       "32          561  1170       5   992649600    24\n",
       "34         2212  1170       5  1069977600    25\n",
       "35         1854  1170       5   976665600    26\n",
       "38          565  1170       5  1259452800    27\n",
       "39         4382  1170       5  1321315200    28\n",
       "40          781  1170       5  1354492800    29\n",
       "...         ...   ...     ...         ...   ...\n",
       "195742     2185   137       2  1163635200  4435\n",
       "195743     2677   137       5  1177632000  3922\n",
       "195747      714   137       5  1267056000  3191\n",
       "195748     2794   137       5  1172620800   815\n",
       "195751      312   137       5  1168214400  2125\n",
       "195753      625   137       4  1174262400  1716\n",
       "195754     3416   137       2  1177200000  3871\n",
       "195755     4465   137       5  1163203200  3148\n",
       "195757      538   137       5  1218844800   389\n",
       "195758     2451   137       2  1162512000  4578\n",
       "195759     2666   137       4  1183939200  3564\n",
       "195761      795   137       4  1173657600  1903\n",
       "195762     1148   137       2  1181692800  2195\n",
       "195763     3117   137       5  1174435200  1904\n",
       "195767      668   137       4  1172966400  2196\n",
       "195768     2820   137       5  1162684800  4135\n",
       "195769     4229   137       4  1374019200  1859\n",
       "195770     2702   137       5  1174521600  4558\n",
       "195771     1996   137       4  1173312000  2280\n",
       "195772     1844   137       4  1193443200  1262\n",
       "195773      696   137       4  1180828800  2056\n",
       "195774      481   137       5  1316822400   290\n",
       "195776     1247   137       5  1168387200   398\n",
       "195779     3970   137       5  1192492800  4337\n",
       "195780      385   137       4  1361664000  1344\n",
       "195782     2061   137       5  1170547200   586\n",
       "195786     1211   137       2  1175385600  3149\n",
       "195787     1486   137       4  1173312000  2896\n",
       "195789     2509   137       1  1174867200  4282\n",
       "195790      491   137       2  1173312000   321\n",
       "\n",
       "[124599 rows x 5 columns]"
      ]
     },
     "execution_count": 85,
     "metadata": {},
     "output_type": "execute_result"
    }
   ],
   "source": [
    "ui_data_filter"
   ]
  },
  {
   "cell_type": "code",
   "execution_count": 84,
   "metadata": {},
   "outputs": [
    {
     "data": {
      "text/plain": [
       "4579"
      ]
     },
     "execution_count": 84,
     "metadata": {},
     "output_type": "execute_result"
    }
   ],
   "source": [
    "count_user_interaction = dict(ui_data_filter.user.value_counts())\n",
    "less_100_user = [k for k, v in count_user_interaction.items() if 13<=v<=100]\n",
    "len(less_100_user)"
   ]
  },
  {
   "cell_type": "code",
   "execution_count": 86,
   "metadata": {},
   "outputs": [
    {
     "data": {
      "text/plain": [
       "(4579, 2753)"
      ]
     },
     "execution_count": 86,
     "metadata": {},
     "output_type": "execute_result"
    }
   ],
   "source": [
    "user_list = set(ui_data_filter.user)\n",
    "item_list = set(ui_data_filter.item)\n",
    "len(user_list), len(item_list)"
   ]
  },
  {
   "cell_type": "code",
   "execution_count": 87,
   "metadata": {},
   "outputs": [],
   "source": [
    "user_time = ui_data_filter[['user','timestamp']]\n",
    "item_time = ui_data_filter[['item','timestamp']]\n",
    "user_time = user_time.groupby(['user']).apply(lambda x: x.sort_values([\"timestamp\"], ascending = True)).reset_index(drop=True).groupby('user').head(1)\n",
    "item_time = item_time.groupby(['item']).apply(lambda x: x.sort_values([\"timestamp\"], ascending = True)).reset_index(drop=True).groupby('item').head(1)\n",
    "user_time.sort_values(by=\"timestamp\" , inplace=True, ascending=False)\n",
    "item_time.sort_values(by=\"timestamp\" , inplace=True, ascending=False)"
   ]
  },
  {
   "cell_type": "code",
   "execution_count": 88,
   "metadata": {},
   "outputs": [],
   "source": [
    "user_top = user_time.iloc[:915]\n",
    "new_user = user_top['user'].tolist()\n",
    "item_top = item_time.iloc[:550]\n",
    "new_item = item_top['item'].tolist()"
   ]
  },
  {
   "cell_type": "code",
   "execution_count": 90,
   "metadata": {},
   "outputs": [
    {
     "data": {
      "text/plain": [
       "(3664, 2203)"
      ]
     },
     "execution_count": 90,
     "metadata": {},
     "output_type": "execute_result"
    }
   ],
   "source": [
    "exist_user = list(user_list - set(new_user))\n",
    "exist_item = list(item_list- set(new_item))\n",
    "len(exist_user), len(exist_item)"
   ]
  },
  {
   "cell_type": "markdown",
   "metadata": {},
   "source": [
    "meta_training and meta-testing data"
   ]
  },
  {
   "cell_type": "code",
   "execution_count": 91,
   "metadata": {},
   "outputs": [
    {
     "data": {
      "text/plain": [
       "84924"
      ]
     },
     "execution_count": 91,
     "metadata": {},
     "output_type": "execute_result"
    }
   ],
   "source": [
    "meta_training_data = ui_data_filter[(ui_data_filter['user'].isin(exist_user)) & (ui_data_filter['item'].isin(exist_item))]\n",
    "len(meta_training_data)  # 967291 "
   ]
  },
  {
   "cell_type": "code",
   "execution_count": null,
   "metadata": {},
   "outputs": [],
   "source": []
  },
  {
   "cell_type": "code",
   "execution_count": 57,
   "metadata": {},
   "outputs": [
    {
     "data": {
      "text/plain": [
       "8492"
      ]
     },
     "execution_count": 57,
     "metadata": {},
     "output_type": "execute_result"
    }
   ],
   "source": [
    "warm_data = meta_training_data.sample(int(0.1*len(meta_training_data)))\n",
    "len(warm_data)  # 96729 "
   ]
  },
  {
   "cell_type": "code",
   "execution_count": 58,
   "metadata": {},
   "outputs": [
    {
     "data": {
      "text/plain": [
       "(3012, 3012)"
      ]
     },
     "execution_count": 58,
     "metadata": {},
     "output_type": "execute_result"
    }
   ],
   "source": [
    "# warm data\n",
    "warm_x = {k: g[\"item\"].tolist() for k,g in warm_data.groupby(\"user\")}\n",
    "warm_y = {k: g[\"rating\"].tolist() for k,g in warm_data.groupby(\"user\")}\n",
    "json.dump(warm_x, open(\"{}/warm_up.json\".format(output_dir), 'w'))\n",
    "json.dump(warm_y, open(\"{}/warm_up_y.json\".format(output_dir), 'w'))\n",
    "len(warm_x), len(warm_y)"
   ]
  },
  {
   "cell_type": "code",
   "execution_count": 60,
   "metadata": {},
   "outputs": [
    {
     "data": {
      "text/plain": [
       "76432"
      ]
     },
     "execution_count": 60,
     "metadata": {},
     "output_type": "execute_result"
    }
   ],
   "source": [
    "training_data = meta_training_data.loc[meta_training_data.index.difference(warm_data.index)]\n",
    "len(training_data)  # 870562 "
   ]
  },
  {
   "cell_type": "code",
   "execution_count": 61,
   "metadata": {},
   "outputs": [
    {
     "data": {
      "text/plain": [
       "(3663, 3663)"
      ]
     },
     "execution_count": 61,
     "metadata": {},
     "output_type": "execute_result"
    }
   ],
   "source": [
    "# training data\n",
    "training_x = {k: g[\"item\"].tolist() for k,g in training_data.groupby(\"user\")}\n",
    "training_y = {k: g[\"rating\"].tolist() for k,g in training_data.groupby(\"user\")}\n",
    "json.dump(training_x, open(\"{}/meta_training.json\".format(output_dir), 'w'))\n",
    "json.dump(training_y, open(\"{}/meta_training_y.json\".format(output_dir), 'w'))\n",
    "len(training_x), len(training_y)"
   ]
  },
  {
   "cell_type": "code",
   "execution_count": 11,
   "metadata": {},
   "outputs": [
    {
     "data": {
      "text/plain": [
       "2662"
      ]
     },
     "execution_count": 11,
     "metadata": {},
     "output_type": "execute_result"
    }
   ],
   "source": [
    "count_user_interaction = dict(training_data.user.value_counts())\n",
    "less_100_user = [k for k, v in count_user_interaction.items() if 13<=v<=100]\n",
    "len(less_100_user)"
   ]
  },
  {
   "cell_type": "code",
   "execution_count": 63,
   "metadata": {},
   "outputs": [
    {
     "data": {
      "text/plain": [
       "18240"
      ]
     },
     "execution_count": 63,
     "metadata": {},
     "output_type": "execute_result"
    }
   ],
   "source": [
    "# meta-testing\n",
    "# user_cold_testing\n",
    "user_cold_data =ui_data_filter[(ui_data_filter['user'].isin(new_user)) & (ui_data_filter['item'].isin(exist_item))]\n",
    "len(user_cold_data) "
   ]
  },
  {
   "cell_type": "code",
   "execution_count": 64,
   "metadata": {},
   "outputs": [
    {
     "data": {
      "text/plain": [
       "(915, 915)"
      ]
     },
     "execution_count": 64,
     "metadata": {},
     "output_type": "execute_result"
    }
   ],
   "source": [
    "user_cold_x = {k: g[\"item\"].tolist() for k,g in user_cold_data.groupby(\"user\")}\n",
    "user_cold_y = {k: g[\"rating\"].tolist() for k,g in user_cold_data.groupby(\"user\")}\n",
    "json.dump(user_cold_x, open(\"{}/user_cold_testing.json\".format(output_dir), 'w'))\n",
    "json.dump(user_cold_y, open(\"{}/user_cold_testing_y.json\".format(output_dir), 'w'))\n",
    "len(user_cold_x), len(user_cold_y)"
   ]
  },
  {
   "cell_type": "code",
   "execution_count": 65,
   "metadata": {},
   "outputs": [
    {
     "data": {
      "text/plain": [
       "698"
      ]
     },
     "execution_count": 65,
     "metadata": {},
     "output_type": "execute_result"
    }
   ],
   "source": [
    "count_user_interaction = dict(user_cold_data.user.value_counts())\n",
    "less_100_user = [k for k, v in count_user_interaction.items() if 13<=v<=100]\n",
    "len(less_100_user)"
   ]
  },
  {
   "cell_type": "code",
   "execution_count": 66,
   "metadata": {},
   "outputs": [
    {
     "data": {
      "text/plain": [
       "18694"
      ]
     },
     "execution_count": 66,
     "metadata": {},
     "output_type": "execute_result"
    }
   ],
   "source": [
    "# item_cold_testing\n",
    "item_cold_data =ui_data_filter[(ui_data_filter['user'].isin(exist_user)) & (ui_data_filter['item'].isin(new_item))]\n",
    "len(item_cold_data)  # 118467 "
   ]
  },
  {
   "cell_type": "code",
   "execution_count": 67,
   "metadata": {},
   "outputs": [
    {
     "data": {
      "text/plain": [
       "(2546, 2546)"
      ]
     },
     "execution_count": 67,
     "metadata": {},
     "output_type": "execute_result"
    }
   ],
   "source": [
    "item_cold_x = {k: g[\"item\"].tolist() for k,g in item_cold_data.groupby(\"user\")}\n",
    "item_cold_y = {k: g[\"rating\"].tolist() for k,g in item_cold_data.groupby(\"user\")}\n",
    "json.dump(item_cold_x, open(\"{}/item_cold_testing.json\".format(output_dir), 'w'))\n",
    "json.dump(item_cold_y, open(\"{}/item_cold_testing_y.json\".format(output_dir), 'w'))\n",
    "len(item_cold_x), len(item_cold_y)"
   ]
  },
  {
   "cell_type": "code",
   "execution_count": 68,
   "metadata": {},
   "outputs": [
    {
     "data": {
      "text/plain": [
       "428"
      ]
     },
     "execution_count": 68,
     "metadata": {},
     "output_type": "execute_result"
    }
   ],
   "source": [
    "count_user_interaction = dict(item_cold_data.user.value_counts())\n",
    "less_100_user = [k for k, v in count_user_interaction.items() if 13<=v<=100]\n",
    "len(less_100_user)"
   ]
  },
  {
   "cell_type": "code",
   "execution_count": 69,
   "metadata": {},
   "outputs": [
    {
     "data": {
      "text/plain": [
       "2741"
      ]
     },
     "execution_count": 69,
     "metadata": {},
     "output_type": "execute_result"
    }
   ],
   "source": [
    "# user_and_item_cold_testing\n",
    "user_item_cold_data =ui_data_filter[(ui_data_filter['user'].isin(new_user)) & (ui_data_filter['item'].isin(new_item))]\n",
    "len(user_item_cold_data)  # 52736 "
   ]
  },
  {
   "cell_type": "code",
   "execution_count": 70,
   "metadata": {},
   "outputs": [
    {
     "data": {
      "text/plain": [
       "(771, 771)"
      ]
     },
     "execution_count": 70,
     "metadata": {},
     "output_type": "execute_result"
    }
   ],
   "source": [
    "user_item_cold_x = {k: g[\"item\"].tolist() for k,g in user_item_cold_data.groupby(\"user\")}\n",
    "user_item_cold_y = {k: g[\"rating\"].tolist() for k,g in user_item_cold_data.groupby(\"user\")}\n",
    "json.dump(user_item_cold_x, open(\"{}/user_and_item_cold_testing.json\".format(output_dir), 'w'))\n",
    "json.dump(user_item_cold_y, open(\"{}/user_and_item_cold_testing_y.json\".format(output_dir), 'w'))\n",
    "len(user_item_cold_x), len(user_item_cold_y)"
   ]
  },
  {
   "cell_type": "code",
   "execution_count": 71,
   "metadata": {},
   "outputs": [
    {
     "data": {
      "text/plain": [
       "16"
      ]
     },
     "execution_count": 71,
     "metadata": {},
     "output_type": "execute_result"
    }
   ],
   "source": [
    "count_user_interaction = dict(user_item_cold_data.user.value_counts())\n",
    "less_10_user = [k for k, v in count_user_interaction.items() if 13<=v<=100]\n",
    "len(less_10_user)"
   ]
  },
  {
   "cell_type": "code",
   "execution_count": 21,
   "metadata": {},
   "outputs": [
    {
     "data": {
      "text/plain": [
       "195791"
      ]
     },
     "execution_count": 21,
     "metadata": {},
     "output_type": "execute_result"
    }
   ],
   "source": [
    "len(training_data)+len(warm_data)+len(user_cold_data)+len(item_cold_data)+len(user_item_cold_data)"
   ]
  },
  {
   "cell_type": "code",
   "execution_count": null,
   "metadata": {},
   "outputs": [],
   "source": []
  }
 ],
 "metadata": {
  "kernelspec": {
   "display_name": "Python 3",
   "language": "python",
   "name": "python3"
  },
  "language_info": {
   "codemirror_mode": {
    "name": "ipython",
    "version": 3
   },
   "file_extension": ".py",
   "mimetype": "text/x-python",
   "name": "python",
   "nbconvert_exporter": "python",
   "pygments_lexer": "ipython3",
   "version": "3.7.0"
  }
 },
 "nbformat": 4,
 "nbformat_minor": 2
}
